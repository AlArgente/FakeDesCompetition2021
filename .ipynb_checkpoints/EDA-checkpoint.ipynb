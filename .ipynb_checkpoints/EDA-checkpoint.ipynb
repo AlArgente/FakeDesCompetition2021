{
 "cells": [
  {
   "cell_type": "code",
   "execution_count": 1,
   "metadata": {},
   "outputs": [],
   "source": [
    "import re\n",
    "import string\n",
    "import math\n",
    "import nltk\n",
    "import pandas as pd\n",
    "import numpy as np"
   ]
  },
  {
   "cell_type": "code",
   "execution_count": 2,
   "metadata": {},
   "outputs": [],
   "source": [
    "train = pd.read_excel('train.xlsx', )"
   ]
  },
  {
   "cell_type": "code",
   "execution_count": 3,
   "metadata": {},
   "outputs": [],
   "source": [
    "pd.set_option('display.max_columns', 22)\n",
    "pd.set_option('display.precision', 2)"
   ]
  },
  {
   "cell_type": "code",
   "execution_count": 4,
   "metadata": {},
   "outputs": [
    {
     "data": {
      "text/html": [
       "<div>\n",
       "<style scoped>\n",
       "    .dataframe tbody tr th:only-of-type {\n",
       "        vertical-align: middle;\n",
       "    }\n",
       "\n",
       "    .dataframe tbody tr th {\n",
       "        vertical-align: top;\n",
       "    }\n",
       "\n",
       "    .dataframe thead th {\n",
       "        text-align: right;\n",
       "    }\n",
       "</style>\n",
       "<table border=\"1\" class=\"dataframe\">\n",
       "  <thead>\n",
       "    <tr style=\"text-align: right;\">\n",
       "      <th></th>\n",
       "      <th>Id</th>\n",
       "      <th>Category</th>\n",
       "      <th>Topic</th>\n",
       "      <th>Source</th>\n",
       "      <th>Headline</th>\n",
       "      <th>Text</th>\n",
       "      <th>Link</th>\n",
       "    </tr>\n",
       "  </thead>\n",
       "  <tbody>\n",
       "    <tr>\n",
       "      <th>0</th>\n",
       "      <td>1</td>\n",
       "      <td>Fake</td>\n",
       "      <td>Education</td>\n",
       "      <td>El Ruinaversal</td>\n",
       "      <td>RAE INCLUIRÁ LA PALABRA \"LADY\" EN EL DICCIONAR...</td>\n",
       "      <td>RAE INCLUIRÁ LA PALABRA \"LADY\" EN EL DICCIONAR...</td>\n",
       "      <td>http://www.elruinaversal.com/2017/06/10/rae-in...</td>\n",
       "    </tr>\n",
       "    <tr>\n",
       "      <th>1</th>\n",
       "      <td>2</td>\n",
       "      <td>Fake</td>\n",
       "      <td>Education</td>\n",
       "      <td>Hay noticia</td>\n",
       "      <td>La palabra \"haiga\", aceptada por la RAE</td>\n",
       "      <td>La palabra \"haiga\", aceptada por la RAE La Rea...</td>\n",
       "      <td>https://haynoticia.es/la-palabra-haiga-aceptad...</td>\n",
       "    </tr>\n",
       "    <tr>\n",
       "      <th>2</th>\n",
       "      <td>3</td>\n",
       "      <td>Fake</td>\n",
       "      <td>Education</td>\n",
       "      <td>El Ruinaversal</td>\n",
       "      <td>YORDI ROSADO ESCRIBIRÁ Y DISEÑARÁ LOS NUEVOS L...</td>\n",
       "      <td>YORDI ROSADO ESCRIBIRÁ Y DISEÑARÁ LOS NUEVOS L...</td>\n",
       "      <td>http://www.elruinaversal.com/2018/05/06/yordi-...</td>\n",
       "    </tr>\n",
       "    <tr>\n",
       "      <th>3</th>\n",
       "      <td>4</td>\n",
       "      <td>True</td>\n",
       "      <td>Education</td>\n",
       "      <td>EL UNIVERSAL</td>\n",
       "      <td>UNAM capacitará a maestros para aprobar prueba...</td>\n",
       "      <td>UNAM capacitará a maestros para aprobar prueba...</td>\n",
       "      <td>http://www.eluniversal.com.mx/articulo/nacion/...</td>\n",
       "    </tr>\n",
       "    <tr>\n",
       "      <th>4</th>\n",
       "      <td>5</td>\n",
       "      <td>Fake</td>\n",
       "      <td>Education</td>\n",
       "      <td>Lamula</td>\n",
       "      <td>pretenden aprobar libros escolares con conteni...</td>\n",
       "      <td>Alerta: pretenden aprobar libros escolares con...</td>\n",
       "      <td>https://redaccion.lamula.pe/2018/06/19/memoria...</td>\n",
       "    </tr>\n",
       "  </tbody>\n",
       "</table>\n",
       "</div>"
      ],
      "text/plain": [
       "   Id Category      Topic          Source  \\\n",
       "0   1     Fake  Education  El Ruinaversal   \n",
       "1   2     Fake  Education     Hay noticia   \n",
       "2   3     Fake  Education  El Ruinaversal   \n",
       "3   4     True  Education    EL UNIVERSAL   \n",
       "4   5     Fake  Education          Lamula   \n",
       "\n",
       "                                            Headline  \\\n",
       "0  RAE INCLUIRÁ LA PALABRA \"LADY\" EN EL DICCIONAR...   \n",
       "1            La palabra \"haiga\", aceptada por la RAE   \n",
       "2  YORDI ROSADO ESCRIBIRÁ Y DISEÑARÁ LOS NUEVOS L...   \n",
       "3  UNAM capacitará a maestros para aprobar prueba...   \n",
       "4  pretenden aprobar libros escolares con conteni...   \n",
       "\n",
       "                                                Text  \\\n",
       "0  RAE INCLUIRÁ LA PALABRA \"LADY\" EN EL DICCIONAR...   \n",
       "1  La palabra \"haiga\", aceptada por la RAE La Rea...   \n",
       "2  YORDI ROSADO ESCRIBIRÁ Y DISEÑARÁ LOS NUEVOS L...   \n",
       "3  UNAM capacitará a maestros para aprobar prueba...   \n",
       "4  Alerta: pretenden aprobar libros escolares con...   \n",
       "\n",
       "                                                Link  \n",
       "0  http://www.elruinaversal.com/2017/06/10/rae-in...  \n",
       "1  https://haynoticia.es/la-palabra-haiga-aceptad...  \n",
       "2  http://www.elruinaversal.com/2018/05/06/yordi-...  \n",
       "3  http://www.eluniversal.com.mx/articulo/nacion/...  \n",
       "4  https://redaccion.lamula.pe/2018/06/19/memoria...  "
      ]
     },
     "execution_count": 4,
     "metadata": {},
     "output_type": "execute_result"
    }
   ],
   "source": [
    "train.head()"
   ]
  },
  {
   "cell_type": "code",
   "execution_count": 5,
   "metadata": {},
   "outputs": [
    {
     "data": {
      "text/plain": [
       "(676, 7)"
      ]
     },
     "execution_count": 5,
     "metadata": {},
     "output_type": "execute_result"
    }
   ],
   "source": [
    "train.shape"
   ]
  },
  {
   "cell_type": "code",
   "execution_count": 6,
   "metadata": {},
   "outputs": [
    {
     "data": {
      "text/plain": [
       "Index(['Id', 'Category', 'Topic', 'Source', 'Headline', 'Text', 'Link'], dtype='object')"
      ]
     },
     "execution_count": 6,
     "metadata": {},
     "output_type": "execute_result"
    }
   ],
   "source": [
    "train.columns"
   ]
  },
  {
   "cell_type": "code",
   "execution_count": 7,
   "metadata": {},
   "outputs": [
    {
     "name": "stdout",
     "output_type": "stream",
     "text": [
      "<class 'pandas.core.frame.DataFrame'>\n",
      "RangeIndex: 676 entries, 0 to 675\n",
      "Data columns (total 7 columns):\n",
      "Id          676 non-null int64\n",
      "Category    676 non-null object\n",
      "Topic       676 non-null object\n",
      "Source      676 non-null object\n",
      "Headline    676 non-null object\n",
      "Text        676 non-null object\n",
      "Link        676 non-null object\n",
      "dtypes: int64(1), object(6)\n",
      "memory usage: 37.1+ KB\n"
     ]
    }
   ],
   "source": [
    "train.info()"
   ]
  },
  {
   "cell_type": "code",
   "execution_count": 8,
   "metadata": {},
   "outputs": [
    {
     "data": {
      "text/html": [
       "<div>\n",
       "<style scoped>\n",
       "    .dataframe tbody tr th:only-of-type {\n",
       "        vertical-align: middle;\n",
       "    }\n",
       "\n",
       "    .dataframe tbody tr th {\n",
       "        vertical-align: top;\n",
       "    }\n",
       "\n",
       "    .dataframe thead th {\n",
       "        text-align: right;\n",
       "    }\n",
       "</style>\n",
       "<table border=\"1\" class=\"dataframe\">\n",
       "  <thead>\n",
       "    <tr style=\"text-align: right;\">\n",
       "      <th></th>\n",
       "      <th>Id</th>\n",
       "    </tr>\n",
       "  </thead>\n",
       "  <tbody>\n",
       "    <tr>\n",
       "      <th>count</th>\n",
       "      <td>676.00</td>\n",
       "    </tr>\n",
       "    <tr>\n",
       "      <th>mean</th>\n",
       "      <td>338.50</td>\n",
       "    </tr>\n",
       "    <tr>\n",
       "      <th>std</th>\n",
       "      <td>195.29</td>\n",
       "    </tr>\n",
       "    <tr>\n",
       "      <th>min</th>\n",
       "      <td>1.00</td>\n",
       "    </tr>\n",
       "    <tr>\n",
       "      <th>25%</th>\n",
       "      <td>169.75</td>\n",
       "    </tr>\n",
       "    <tr>\n",
       "      <th>50%</th>\n",
       "      <td>338.50</td>\n",
       "    </tr>\n",
       "    <tr>\n",
       "      <th>75%</th>\n",
       "      <td>507.25</td>\n",
       "    </tr>\n",
       "    <tr>\n",
       "      <th>max</th>\n",
       "      <td>676.00</td>\n",
       "    </tr>\n",
       "  </tbody>\n",
       "</table>\n",
       "</div>"
      ],
      "text/plain": [
       "           Id\n",
       "count  676.00\n",
       "mean   338.50\n",
       "std    195.29\n",
       "min      1.00\n",
       "25%    169.75\n",
       "50%    338.50\n",
       "75%    507.25\n",
       "max    676.00"
      ]
     },
     "execution_count": 8,
     "metadata": {},
     "output_type": "execute_result"
    }
   ],
   "source": [
    "train.describe()"
   ]
  },
  {
   "cell_type": "code",
   "execution_count": 9,
   "metadata": {},
   "outputs": [
    {
     "data": {
      "text/plain": [
       "True    338\n",
       "Fake    338\n",
       "Name: Category, dtype: int64"
      ]
     },
     "execution_count": 9,
     "metadata": {},
     "output_type": "execute_result"
    }
   ],
   "source": [
    "train['Category'].value_counts()"
   ]
  },
  {
   "cell_type": "code",
   "execution_count": 10,
   "metadata": {},
   "outputs": [
    {
     "data": {
      "text/plain": [
       "True    0.5\n",
       "Fake    0.5\n",
       "Name: Category, dtype: float64"
      ]
     },
     "execution_count": 10,
     "metadata": {},
     "output_type": "execute_result"
    }
   ],
   "source": [
    "train['Category'].value_counts(normalize=True)"
   ]
  },
  {
   "cell_type": "code",
   "execution_count": 11,
   "metadata": {},
   "outputs": [
    {
     "data": {
      "text/plain": [
       "True    338\n",
       "Fake    338\n",
       "Name: Category, dtype: int64"
      ]
     },
     "execution_count": 11,
     "metadata": {},
     "output_type": "execute_result"
    }
   ],
   "source": [
    "train['Category'].value_counts()"
   ]
  },
  {
   "cell_type": "code",
   "execution_count": 12,
   "metadata": {},
   "outputs": [
    {
     "data": {
      "text/plain": [
       "True    0.5\n",
       "Fake    0.5\n",
       "Name: Category, dtype: float64"
      ]
     },
     "execution_count": 12,
     "metadata": {},
     "output_type": "execute_result"
    }
   ],
   "source": [
    "train['Category'].value_counts(normalize=True)"
   ]
  },
  {
   "cell_type": "code",
   "execution_count": 13,
   "metadata": {},
   "outputs": [
    {
     "data": {
      "text/plain": [
       "Id          0\n",
       "Category    0\n",
       "Topic       0\n",
       "Source      0\n",
       "Headline    0\n",
       "Text        0\n",
       "Link        0\n",
       "dtype: int64"
      ]
     },
     "execution_count": 13,
     "metadata": {},
     "output_type": "execute_result"
    }
   ],
   "source": [
    "train.isnull().sum()"
   ]
  },
  {
   "cell_type": "code",
   "execution_count": 14,
   "metadata": {},
   "outputs": [],
   "source": [
    "train['text_lower'] = train['Text'].apply(lambda x: x.lower())"
   ]
  },
  {
   "cell_type": "code",
   "execution_count": 15,
   "metadata": {},
   "outputs": [],
   "source": [
    "# Remove digits and words containing digits\n",
    "train['text_lower'] = train['text_lower'].apply(lambda x: re.sub('\\w*\\d\\w*','', x))"
   ]
  },
  {
   "cell_type": "code",
   "execution_count": 16,
   "metadata": {},
   "outputs": [],
   "source": [
    "# Remove punctuation\n",
    "train['text_lower'] = train['text_lower'].apply(lambda x: re.sub('[%s]' % re.escape(string.punctuation), '', x))"
   ]
  },
  {
   "cell_type": "code",
   "execution_count": 17,
   "metadata": {},
   "outputs": [],
   "source": [
    "# Removing extra spaces\n",
    "train['text_lower'] = train['text_lower'].apply(lambda x: re.sub(' +',' ',x))"
   ]
  },
  {
   "cell_type": "code",
   "execution_count": 20,
   "metadata": {},
   "outputs": [
    {
     "name": "stdout",
     "output_type": "stream",
     "text": [
      "Comentario 1: \n",
      " el obispo de córdoba las mujeres jamás podrán ejercer el sacerdocio\n",
      "se trata de un don nunca un derecho asegura\n",
      "el obispo de córdoba demetrio fernández ha subrayado que el sacerdocio solo lo pueden ejercer los hombres y jamás las mujeres teniendo en cuenta además que se trata de un don nunca un derecho aunque algunos se empeñan en reivindicar hoy el sacerdocio femenino el sacerdocio de la mujer como si fuera un derecho como si fuera una cota de poder\n",
      "sin embargo según afirma demetrio fernández en su carta semanal recogida por europa press la iglesia no es dueña absoluta de los dones que le ha otorgado su maestro y ha respondido que no puede hacer algo diferente a lo que ha hecho su maestro y señor jesucristo es decir el sacerdocio ministerial es un don nunca un derecho por tanto no puede entrar en el mercado de los derechos humanos ni debe ser objeto de reivindicaciones\n",
      "por ello y de manera definitiva la iglesia ha establecido que la ordenación sacerdotal solo puede concederse a varones de forma que esta sentencia no podrá ser reformada nunca jamás porque el papa juan pablo ii la dictó apoyado en el ejemplo de jesús en la palabra de dios en la tradición viva de la iglesia y en su infalibilidad pontificia\n",
      "en cualquier caso el obispo ha querido aclarar que jesucristo no ha hecho de menos a la mujer porque la ha igualado en todo con el varón por ejemplo en los temas de matrimonio cuando la mujer no tenía ningún derecho y podía ser repudiada en cualquier momento jesús sitúa a la mujer a la misma altura que el varón cuando señaló que no sólo la mujer comete adulterio si se va con otro también el varón comete adulterio si se va con otra cf mt number porque dios los ha hecho iguales en dignidad diferentes para ser complementarios y aunque esta postura de jesús sorprendió fuertemente a sus discípulos jesús dejó establecida esta igualdad fundamental que la iglesia tiene que respetar y promover a lo largo de los siglos\n",
      "de hecho según demetrio fernández el papel de la mujer en la iglesia es de enorme importancia no solo porque todas las mujeres están llamadas en cuanto tales a la santidad sino porque a ellas de manera especial les ha sido encomendado el cuidado del ser humano desde su concepción hasta su muerte en el matrimonio o en la virginidad el corazón de la mujer está hecho para la maternidad para proteger al ser humano especialmente a los más débiles e indefensos nada más cálido para el ser humano que el regazo de una madre\n",
      "es más en opinión del obispo el genio femenino y el corazón de la mujer está hecho para amar para acoger para expresar la ternura de dios con el hombre y en este sentido el feminismo cristiano ha ofrecido a la humanidad grandes mujeres plenamente femeninas a imagen de maría la madre de jesús y entregadas de lleno en la virginidad o en el matrimonio a una maternidad amplia y fecunda la mujer no ha de dejar de ser mujer para ser más sino que precisamente siendo mujer plenamente mujer encontrará su plenitud\n",
      "Comentario 2: \n",
      " los viajes de angélica rivera esto cuesta cuidar a la primera dama en enero de number cuando el presidente enrique peña nieto apenas estaba en su segundo mes de gobierno su familia viajó a key biscayne en miami florida donde la primera dama angélica rivera tiene un departamento en el edificio de lujo ocean tower one\n",
      "peña nieto no viajó con su familia pues realizaba una visita a chile para participar en la cumbre de la comunidad de estados latinoamericanos y caribeños y la unión europea también conocida como cumbre celacue\n",
      "en miami la familia del presidente fue acompañada por escoltas del estado mayor presidencial emp quienes alquilaron siete habitaciones en el hotel de lujo the ritzcarlton entre el number al number de enero de aquel año\n",
      "en aquella ocasión sólo por los vuelos a miami y el hospedaje en key biscayne para los oficiales del estado mayor la presidencia desembolsó poco más de de number mil pesos\n",
      "aquella no fue la única visita a ese destino turístico\n",
      "entre number y number los viajes del emp a florida se han repetido durante number ocasiones de los cuales number han sido a key biscayne donde rivera tiene su departamento\n",
      "los viajes del emp a key biscayne han costado a los contribuyentes poco más de number millones number mil pesos de acuerdo con los comprobantes de vuelos y hospedaje que la presidencia entregó a aristegui noticias a través de la ley de transparencia\n",
      "por hospedajes la presidencia ha desembolsado number millones number mil pesos por boletos de avión se han gastado casi number mil pesos\n",
      "aunque el emp reportó viajes a florida el number de mayo de number además del number de febrero el number de abril y number de junio de number los comprobantes de gastos de esas fechas no fueron entregados vía transparencia\n",
      "los viajes se han justificado bajo el artículo number fracción i del reglamento del estado mayor presidencial que establece la obligación de este cuerpo para garantizar la seguridad del presidente y de su familia\n",
      "el último viaje del emp a key biscayne del que se tiene registro ocurrió el number de agosto del año pasado\n",
      "justo ese mismo día el diario británico the guardian reveló que el predial del departamento de rivera fue pagado por el empresario ricardo pierdant amigo de peña nieto\n",
      "el valor del departamento de rivera oscila los number millones de dólares y ocupa el número number del edificio ocean tower one\n",
      "los últimos viajes han sido los más económicos del emp también el cuerpo de seguridad ya no se hospeda en the ritzcarlton sino que ha elegido el silver sands beach resort un hotel sencillo con precio muy inferior\n",
      "miami no es el único destino turístico donde la primera dama va con escolta el estado mayor también acompañó a angélica rivera a brasil durante el mundial de futbol number y a beverly hills en los ángeles california en abril de number a donde acudió de compras y visitó el parque disney\n",
      "sólo por estos dos viajes la presidencia erogó más de number mil pesos en recursos públicos en cuidar a la primera dama y su familia\n",
      "Comentario 3: \n",
      " joven coahuilense convivirá con premios nobel\n",
      "inventa producto a base de grafeno y será la única invitada de américa latina en presenciar la ceremonia de entrega de los premios que se realizará en diciembre en estocolmo suecia\n",
      "torreón una joven investigó e inventó productos elaborados a base de grafeno mismos que ayudan a regenerar células cancerígenas e incluso cicatrizar heridas con rapidez lo que la llevó a ser invitada a la ceremonia de premios nobel que se realizará en diciembre en estocolmo suecia\n",
      "se trata de diana quiroz quien estudia la carrera de mecatrónica en el tecnológico de la laguna quien comenzó a colaborar en un proyecto con la empresa alquimex sobre el uso del grafeno y descubrieron que podía utilizarse en la regeneración de células una opción para combatir el cáncer\n",
      "ella presentó su proyecto en la expociencias nacional donde ganó la invitación para asistir a los premios nobel junto con otros number jóvenes del mundo ella es la única latinoamericana en ser invitada a la ceremonia\n",
      "la joven explica que hay muchas presentaciones y dependiendo del órgano que se quiera regenerar se combina el grafeno con ciertas nanopartículas\n",
      "por ejemplo las cremas sirven para tratar heridas abiertas quemaduras e incluso lesiones con exposición de hueso además crearon suplementos para la regeneración de órganos como páncreas hígado pulmones etc\n",
      "Comentario 4: \n",
      " un audio robado hunde a pablo iglesias cócteles molotov contra la guardia civil\n",
      "se está haciendo viral tras recuperarse una grabación del líder podemita que su formación ha tratado de eliminar todo rastro machismo puro y violencia quedan retratados en este documento\n",
      "sin duda se está haciendo viral es una grabación que corresponde a la presencia de pablo iglesias en la escuela de verano de podemos en number tal y como ha podido comprobar esdiario después de su paso por el parlamento europeo y tras las elecciones generales en las que la formación morada accedían por primera vez al congreso en el audio se escucha a un iglesias muy relajado hablando en casa y absolutamente desmelenado en el contenido de lo dicho pero no así en las formas ya que lo manifiesta con absoluta tranquilidad podemos ha intentado borrar todo rastro de este audio pero las redes lo han rescatado y arden estos días ¿se trata de fuego amigo todo apunta a esa dirección\n",
      "¿qué piensa el líder de podemos del parlamento ¿cómo valora sus posibilidades políticas ¿cuál es su verdadera opinión de la justicia las leyes o la guardia civil el audio de dos minutos y medio de duración es totalmente demoledor y hunde al líder de los morados tal vez por eso se haya filtrado ahora –curiosamente cuando parece cerrada la guerra en madrid y se está haciendo viral en pocas horas con envíos y reproducciones a través del whatsapp y las redes sociales\n",
      "iglesias comienza su intervención reconociendo que ser diputado no representa ningún compromiso y califica el parlamento español como burgués de mierda que representa los intereses de clase en este sentido aclara yo no pacto con vosotros eh yo voy ahí en todo caso a liarla y a transmitir el espíritu de los movimientos sociales\n",
      "muy gráficamente continúa su charla yo voy en camiseta a las instituciones y voy ahí a montar el pollo no gobernaremos nunca si no tenemos la mayoría absoluta para gobernar porque no se puede pactar para gobernar continua diciendo para después preguntar retóricamente ¿podemos tener mayoría absoluta por supuesto que sí es cuestión de tiempo es momento en el que aporta las claves sobre su verdadera política la clave del poder no está en las instituciones aquí está en nuestras pelotas está en la calle ocupamos las fábricas y además ocupamos para vivir… yo sé que la mayoría de los que estáis aquí vivís de alquiler o pagáis una hipoteca compañeros hay que vivir ocupando hay que arriesgarse tenéis que convertir vuestra vida en una experiencia revolucionaria dice iglesias\n",
      "y se viene arriba algo que provoca las risas de su entregado público esto de que este espacio esté alquilaó… el año que viene hay que ocuparlo para llegar al momento más polémico de sus declaraciones el servicio de orden no está solamente para repeler una agresión fascista está para defenderse de la guardia civil cuando vengan a desalojarnos y abunda si nos pegan no vamos a ir al juzgado a un cuartel de la guardia civil… esa institución burguesa que protege los intereses de la clase dominante nosotros hacemos política masculina con cojones\n",
      " supongo que muchos de vosotros sabréis perfectamente fabricar cócteles molotov de los que incendian y explotan sabréis hacer barricadas que hay que correr en dirección prohibida de la policía os estaréis entrenando porque se avecina una crisis terminal del capitalismo y tendremos que estar preparados para tomar las armas manifiesta\n",
      "y concluye su hazaña pablo iglesias recordando cómo asistía con cascos a las manifestaciones en la sede del pp una grabación que en podemos han tratado de eliminar a toda costa y que ahora se hace viral\n",
      "Comentario 5: \n",
      " madrid abre el primer centro para el tratamiento de la homosexualidad\n",
      "esta mañana ha sido inaugurado en la localidad madrileña de chinchón el llamado centro de tratamiento de la homosexualidad cth al acto que ha sido apadrinado y dirigido por el arzobispo emérito de madrid el señor rouco varela junto a él acudieron los principales altos cargos de la comunidad de madrid que tras la sagrada misa llevaron a cabo el correspondiente corte de cinta de forma solemne\n",
      "el centro contará con una capacidad de number homosexuales y number bisexuales aunque según el arzobispado de madrid están teniendo solicitudes de inscripción superiores a las previstas por lo que no descartan ampliar el centro en un futuro cercano y trasladar la sede al nuevo eurovegas el cth cuenta con la mayor tecnología hasta el momento para el tratamiento de la homosexualidad este es un problema que tenemos que atajar con urgencia ya que en españa estaba creciendo alarmantemente el número de homosexuales está ampliamente demostrado que la homosexualidad es un vicio como puede ser el juego o el alcoholismo y por lo tanto se puede tratar ha comentado mariano palomez director del centro a los micrófonos de radio maria\n",
      "éste será el primer centro de éste tipo instalado en toda europa por lo que se espera una gran afluencia de usuarios provenientes de todos los países europeos el centro estará dirigido por la conferencia episcopal española aunque ya está recibiendo críticas incluso de parte de miembros de la propia iglesia\n",
      "el ex pontífice joseph aloisius ratzinger benedicto xvi ya ha mostrado su disconformidad sobre el centro publicando una fotografía en su instagram en la que podemos ver como da un pico al cadaver de juan pablo ii para postularse a favor de la homosexualidad\n",
      "Comentario 6: \n",
      " borrar de tus contactos de facebook a tu ex pareja será ilegal suprema corte\n",
      "la suprema corte de justicia de la nación avaló por unanimidad que se hagan diversas adiciones a las leyes de divorcio sea voluntario administrativo o incausado\n",
      "desde hace tiempo atrás el poder legislativo había desechado por completo las causales de divorcio pero no tomaron en cuenta el daño moral que se le ocasiona a una persona cuando se le borra o bloquea de los contactos de sus redes sociales\n",
      "al momento de que alguien se separa lo primero que hace es borrar a su ex peor es nada de su facebook o incluso lo bloquea para no saber de su vida lo cual hace público que hay una ruptura y los amigos toman parte por uno u otro\n",
      "lo que estamos señalando es que esta conducta debe ser castigada con todo el peso de la ley señaló el magistrado hildebrando ballesteros bloquear a un contacto es ir en contra del derecho mismo a ser parte de dichos contactos además de causar daño psicológico cuando los amigos en común se unen a esta denigrante acción por motivos de solidaridad\n",
      "además señaló en la mayoría de los casos los feisbucuates ni siquiera escuchan ambas versiones y se ponen del lado de quien se hace pasar por la víctima\n",
      "por lo tanto quien haga uso de estas herramientas dentro de sus redes sociales en perjuicio de su ex pareja tendrá penas que van desde una multa de number pesos pesos hasta cárcel por number años y en caso de reincidencia puede ser procesado penalmente por robo de amistades añadió\n",
      "con esta medida la scjn espera que al menos number millones de exparejas mexicanas dejen de bloquearse en el facebook cada mes ya que la ley busca el bienestar de todos\n",
      "Comentario 7: \n",
      " sale a la luz la correspondencia de sigmund freud con su hija anna\n",
      "se publican en francia más de number cartas que ponen de relevancia que más allá de los lazos familiares había un trasfondo terapéutico\n",
      "la correspondencia inédita que sigmund freud mantuvo con su hija anna ve la luz por primera vez con la publicación en francia de cerca de number cartas que se enviaron entre number y number en las que se evidencia que más allá del lazo familiar había un objetivo terapéutico\n",
      "la estrecha relación que el austríaco guardaba con la más pequeña de sus hijos refleja también que el psicoanálisis trazó el vínculo entre padre e hija de la que freud se convirtió en su analista en dos ocasiones entre number y number\n",
      "esas cartas que la editorial fayard califica de documento histórico preciado resultan igualmente una crónica de la vida de esa familia de viena durante los primeros decenios del siglo xx\n",
      "y con ellas se comprueba cómo el psicoanálisis marcó a la menor que se implicó en la asociación psicoanalítica internacional se dejó cortejar por algunos alumnos de su padre y acabó dedicada a la terapia de menores llegando a ser en ese campo la principal representante de la escuela vienesa\n",
      "mirándote me doy cuenta de lo viejo que soy porque tienes exactamente la misma edad que el psicoanálisis los dos me habéis causado preocupaciones pero en el fondo espero de tu parte más alegrías que de la suya le dijo freud a anna a finales de number\n",
      "el libro sigmund freud anna freud correspondance phone se pone a la venta mañana y permite según su editorial descubrir detalles de ese doctor en medicina e investigador considerado el padre del psicoanálisis tanto en su vida cotidiana como en su faceta profesional\n",
      "las cartas van encabezadas de un mi querida anna o querido papá y dejan vislumbrar igualmente cómo en los inicios del psicoanálisis esa práctica se probaba en los círculos de los iniciados y en familia\n",
      "aunque anna fue la única analizada por su padre la referencia moral que ejercía sobre el resto de sus descendientes encuentra su propio hueco en otro libro que llega mañana a francia lettres à ses enfants con una recopilación de las cartas que se envió con mathilde martin olivier ernst y sophie entre number y number\n",
      "en ellas freud manifestaba una humanidad profunda y palpable en las que según se adelanta sobre las mismas parece evitar actitudes moralizantes y da prioridad a la comprensión y la escucha\n",
      "ha sido para mí una experiencia preciosa aprender cuánto puede recibir uno de sus propios hijos le dijo a ernst en noviembre de number lo que para la editorial aubier no hace sino engrandecer su figura\n",
      "Comentario 8: \n",
      " la iglesia concederá becas por discapacidad a los homosexuales\n",
      "en un esfuerzo por mantener la coherencia en su discurso el vaticano ha establecido que la homosexualidad sea reconocida en sus estamentos como una discapacidad más eso sí una discapacidad menor\n",
      "¿por qué una discapacidad menor la respuesta es sencilla y clara un homosexual o una homosexual puede desplazarse sin problemas por cualquier espacio físico sin requerir elementos arquitectónicos especiales o ayuda de ningún tipo como sería el caso de un discapacitado medular un ciego o un sordo\n",
      "¿becas para gays\n",
      "un momento ¿cuál es el plural de gay sigamos la idea de la iglesia es reconciliarse con los feligreses que en otro tiempo no eran admitidos en el seno pastoral o incluso eran perseguidos excluidos de la sociedad o incluso quemados por la gracia de dios\n",
      "las becas por discapacidad que concederá la iglesia irán destinadas a distintos fines pero sobre todo a estudios teológicos afines con el ideal católico o de cooperación internacional en ningún caso se destinarán a estudios sin interés espiritual ni a estudios para ejercer el sacerdocio esto último sería de una gran incoherencia para el dogma católico\n",
      "las primeras críticas\n",
      "algunos críticos ya han alzado la voz advirtiendo que el alzamiento del movimiento gay dentro de la iglesia podría deberse al lobby gay que ya denunciaba benedicto xvi fuente eldiarioes hace más de un año\n",
      "¿cómo solicitar estas becas\n",
      "si eres gay y el hecho de ver la realidad de una forma distorsionada por tu discapacidad te supone un problema importante pero quieres enmendarlo cursando formación de carácter espiritual o con fines espirituales en ese caso puedes optar a estas becas de la iglesia\n",
      "la solicitud se presenta vía telepática en la web del concilio vaticano dónde se encuentra el cónclave que decidirá si eres buen candidato para recibir la ayuda económica en cuyo caso la parte financiada será enviada directamente al organismo docente\n",
      "yo sólo sigo corintios numbernumbernumber\n",
      "cada cuál que lo busque\n",
      "Comentario 9: \n",
      " abuelas que cuidan a sus nietos pueden solicitar apoyo alimentario este martes entraron en vigor las disposiciones aprobadas por la asamblea legislativa del distrito federal aldf mediante las cuales las abuelas que tienen la crianza y tutela de sus nietos pueden recibir apoyo alimentario\n",
      "además son vigentes las sanciones para quienes insulten o intimiden a mujeres que alimenten a una niña o niño a través de la lactancia en las vías y espacios públicos\n",
      "las disposiciones ayudan a sobrellevar la crianza ante la falta de madre y padre\n",
      "el presidente de la comisión de gobierno leonel luna estrada destacó que con la entrada en vigor de los decretos el órgano legislativo da continuidad al fortalecimiento de las políticas públicas en favor de cada uno de los sectores de la sociedad y se brinda igualdad en las condiciones de vida\n",
      "el number de diciembre de number el pleno de la aldf aprobó adiciones al artículo number bis de la ley que establece el derecho a recibir un apoyo alimentario a las madres solas de escasos recursos\n",
      "lo anterior para que se cataloguen en esta condición a las abuelas que se hacen cargo del cuidado de sus nietos por extravío o deceso de la madre biológica\n",
      "la comisión de atención a grupos vulnerables que preside la diputada elizabeth mateos hernández elaboró el dictamen presentado por la diputada nury delia ruiz ovando ante el pleno legislativo en donde se argumentó que la abuela requiere apoyos y acceso a programas sociales\n",
      "de manera paralela hoy entraron en vigor las reformas a las leyes de cultura cívica para prevenir y eliminar la discriminación de salud de los derechos de los niños niñas y adolescentes todas de la ciudad de méxico\n",
      "por lo que toca a la ley de cultura cívica se incorporó la disposición de que se sancionará a quien condicione insulte o intimide a la mujer que alimente a una niña o a un niño a través de la lactancia en las vías y espacios públicos\n",
      "las infracciones consisten en arresto de number a number horas habrá casos en los cuales procederá la conciliación cuando el probable infractor repare el daño cuando haya un acuerdo y se fije el monto del daño\n",
      "cuando la persona molestada u ofendida sea menor de edad mujer lactante persona con discapacidad o personas pertenecientes a las poblaciones callejeras se aumentará la sanción hasta en una mitad sin exceder el máximo constitucional y legal establecido para el caso de la multa\n",
      "al respecto el diputado promoventes xavier lópez adame coordinador de la bancada del partido verde dijo que con el decreto se cumple con los compromisos que el estado mexicano ha contraído a nivel internacional al suscribir diversos tratados convenciones e instrumentos que ha ratificado en materia de derechos humanos\n",
      "Comentario 10: \n",
      " el acoso escolar en méxico lo sufren los alumnos con peores calificaciones\n",
      "un number de los adolescentes mexicanos reconoce haber sido objeto de burlas golpes o empujones varias veces al mes más que la media de países de la ocde\n",
      "el acoso escolar asoma en las escuelas mexicanas como uno de los obstáculos más visibles para la educación el number de los alumnos de number años reconoce haber sufrido varias veces al mes algún tipo de abuso burlas o rumores desagradables empujones o golpes y la violencia de los compañeros afecta directamente a las calificaciones los que lo sufren obtienen peores notas concluye un informe elaborado por la organización para la cooperación y el desarrollo económico ocde méxico se encuentra entre los países donde el bullying es más frecuente y sus resultados en el estudio pisa no levantan cabeza desde hace number años\n",
      "en el último informe pisa publicado en diciembre de number el organismo ponía encima de la mesa un tema conocido las carencias en la educación mexicana los adolescentes de méxico reprobaron todos los exámenes ciencias lectura y matemáticas y a sus gobernantes no les quedaba otra que comparar las malas calificaciones con otras todavía peor méxico aún reprobado sacó mejor nota que costa rica colombia brasil y perú en matemáticas algo que ocurre con cada informe se trata del último consuelo educativo\n",
      "las cifras de acoso muestran relaciones sociales fracturadas y el desarrollo de una forma de relacionarse que es nociva según explica gabriela ramos directora de gabinete de la ocde sobre el informe presentado este martes acerca del bienestar de los estudiantes no es la primera vez que el organismo advierte sobre este problema en number colocó a méxico como el país con el nivel más alto de bullying según la encuesta internacional sobre la enseñanza y el aprendizaje el documento añadía algunos testimonios de los profesores y directores señalaban el consumo de drogas y alcohol en las escuelas además de vandalismo y robo\n",
      "entre los otros puntos donde méxico destaca negativamente se encuentra el escaso sentido de pertenencia a la escuela un number de los alumnos se siente marginado en el colegio cuando la media de la ocde es de number y un number se siente solo media de number\n",
      "no obstante el informe presentado este martes recalca que si los alumnos tuvieran que ponerle nota a sus vidas sacarían casi un sobresaliente number se trata del nivel más alto entre los países de la ocde y el segundo entre todos los países participantes en pisa después de república dominicana además se observa un nivel de motivación superior a la media el number de los adolescentes declararon que quieren ser los mejores hagan lo que hagan y el number está motivado para para sacar las notas más altas\n",
      "esta motivación se hacía evidente también en los resultados del último informe pisa pese a las malas calificaciones en ciencia una gran parte de los adolescentes mexicanos querían ser científicos al menos un number de los consultados se refería a ello la mayor proporción de estudiantes con dicha expectativa entre los países ocde teniendo en cuenta que sólo un number de ellos logró un rendimiento en ciencias aceptable y un number ni siquiera obtuvo un nivel mínimo se trató de una respuesta que sorprendió al propio informe estas actitudes positivas están débilmente asociadas con el desempeño de los estudiantes en matemáticas\n",
      "los estudiantes mexicanos se ponen más nerviosos que los de otros países sufren una ansiedad por el estudio superior a la media un number de ellos reconocen ponerse muy tensos cuando estudian y el number se preocupa por las malas calificaciones ser médico es la aspiración profesional más popular entre las niñas mientras que ellos prefieren ser ingenieros\n",
      "el nivel de segregación escolar en méxico es mayor a la media de la ocde sólo un number de los niños de familias de clase trabajadora pueden permitirse un colegio privado el documento recoge además que un number de los estudiantes de familias ricas esperan completar la universidad frente al number de los estudiantes más desfavorecidos\n",
      "méxico invierte number dólares en educar a cada estudiante de seis a number años según los datos del organismo este nivel de gasto representa el number de la media de la ocde el pib per cápita de méxico es de number dólares datos de number el number de la media del organismo el informe señala que lo que méxico gasta en educación en relación con el pib del país es más bajo que en muchos otros países de américa latina como costa rica brasil chile colombia república dominicana y perú pero más alto que uruguay\n",
      "el país destina el number del pib al sistema de educación pública según un estudio de la ocde de number que recoge datos de number es de los países que más dedican a esa partida de todos los que conforman el organismo por delante de alemania y españa y muy similar al de francia pero el number se emplea en pagar las nóminas de los maestros\n",
      "Comentario 11: \n",
      " millennials su objetivo es presumir viajes en redes sociales\n",
      "un estudio reveló que el number de los viajeros millennials pasa más de cuatro horas al día con su celular durante sus escapadas\n",
      "facebook es la red social estrella para mostrar las fotos de un viaje si eres de los que fotografían los hoteles que visita y los monumentos que descubre para subir las imágenes a las redes sociales tú también has convertido tus escapadas en una forma de presumir ante los demás esta tendencia alcanza a un tercio de los viajeros que admite que lo primero que hace cuando llega a un hotel es hacerse una selfie o hacer una foto de la habitación para subirla a sus distintos perfiles\n",
      "viajeros conectados así lo desvela el nuevo estudio mobile travel tracker elaborado por hotelescom que analiza cómo presumen los millennials jóvenes de entre number y number años aproximadamente muy ligados a la tecnología de sus viajes en las redes sociales con el objetivo de obtener el reconocimiento de sus familiares y amigos\n",
      "concretamente el number de este segmento de población admite pasar más de cuatro horas al día con el celular en la mano durante sus viajes con el fin de conseguir más likes en sus distintos perfiles sociales por su parte el number de los viajeros que tienen entre number y number años dedica más de cuatro horas a su teléfono exactamente el mismo porcentaje que entre quienes se sitúan en la década de los number años en contraste sólo el number de los viajeros con edades comprendidas entre number y number años lo hace\n",
      "el estudio también aporta que el number de las instantáneas que publican los viajeros muestran platos de comida acompañados del popular hastag foodporn por edades esta tendencia de fotografiar la gastronomía la llevan a la práctica el number de los millennials seguidos de aquellos con edades entre number y number años number entre number y number años number entre number y number años number y entre number y number number \n",
      "otros datos el number de los viajeros de entre number y number años que según el estudio son amantes de los filtros y adictos al selfiestick admite que preferiría subir un autoretrato antes que una foto con sus seres queridos durante unas vacaciones\n",
      "las mujeres millennial frente al number de los hombres admite que disfruta mucho con la moda de hacerse fotos a una misma y que el number de los viajeros de entre number y number años prefiere compartir un paisaje urbano en las redes sociales frente al number que prefiere mostrar su prenda de ropa favorita\n",
      "en cuanto a los canales más usados el estudio muestra que facebook es la red social estrella number seguida de whatsapp number e instagram number \n",
      "Comentario 12: \n",
      " comida mexicana patrimonio inmaterial de la humanidad\n",
      "se incluyeron también la pirekua y los parachicos\n",
      "el organismo de la onu estará pendiente de su preservación\n",
      "chile frijol y maíz elementos que no deben faltar\n",
      "la comida mexicana fue declarada ayer patrimonio cultural inmaterial de la humanidad por la organización de naciones unidas para la educación la ciencia y la cultura unesco\n",
      "lo mismo ocurrió con la pirekua canto tradicional purépecha y los parachicos la fiesta tradicional de enero en chiapa de corzo chiapas las otras dos candidaturas que el estado mexicano presentó este año para su inscripción en la lista representativa del patrimonio cultural inmaterial\n",
      "de esa forma con este trío de candidaturas aprobado este martes durante la reunión del comité intergubernamental para la salvaguardia del patrimonio cultural inmaterial que desde el pasado lunes y hasta el number de noviembre tiene lugar en nairobi kenia suman en total seis las inscripciones obtenidas por nuestro país en dicho rubro\n",
      "la información fue confirmada vía telefónica a la jornada –desde la capital keniana– por lucía iglesias funcionaria de la oficina de prensa de la unesco quien relató que el fallo positivo hacia esas tres iniciativas fue recibido con júbilo por la delegación nacional que viajó ex profeso a esa ciudad africana\n",
      "la inclusión de la comida mexicana como patrimonio cultural inmaterial de la humanidad se da luego de un fallido primer intento ocurrido el año pasado\n",
      "la cocina michoacana modelo para la candidatura\n",
      "en este number los argumentos de la candidatura fueron presentados bajo el título la cocina tradicional mexicana cultura comunitaria ancestral y viva el paradigma de michoacán lo cual ha sido motivo de confusión pues dejaba abierta la posibilidad de que la iniciativa sólo aludiera a la gastronomía michoacana y no a la del resto del país\n",
      "incluso grupo maseca gruma en su condición de patrocinador permanente de este proyecto y del conservatorio de la cultura gastronómica mexicana aclaró este martes que la candidatura no es de la comida michoacana sino de la cocina mexicana\n",
      "así lo refrendó por su parte alfonso de maria y campos director general del instituto nacional de antropología e historia inah instancia que documentó las tres candidaturas mexicanas\n",
      "es muy importante dejar claro que la declaratoria abarca la comida tradicional de todo méxico no debe confundirse con el ejemplo que se puso como paradigma que es la comida de michoacán resaltó el funcionario en entrevista con este diario\n",
      "para que la cocina de un país de una cultura una civilización como es el caso de la mediterránea o la mexicana pueda ser registrada por la unesco tiene que partir de una cocina regional no se puede partir en ningún caso en el mundo si no tiene una base local\n",
      "si hubiéramos intentado postular la riqueza de la cocina mexicana con su multiplicidad de expresiones y variantes hubiera sido muy largo y complicado decidimos presentar como modelo a la michoacana porque el expediente fue elaborado inicialmente en esa entidad por un grupo que ya había tenido una experiencia anterior fallida\n",
      "otro elemento decisivo para optar por esa cocina como paradigma según el titular del inah fue que en ella se utilizan ingredientes que están presentes en el resto de cocinas mexicanas particularmente el maíz el chile y el frijol\n",
      "de acuerdo con el funcionario el expediente fue integrado con la participación de representantes de los diferentes tipos de comidas que hay en méxico así como con el trabajo de antropólogos de la instancia a su cargo\n",
      "el expediente está armado con categorías antropológicas y culturales enfatizó de maria y campos ante la pregunta de si detrás de esta declaratoria existen intereses económicos no es el interés buscar beneficios económicos sin embargo de manera indirecta seguramente sí habrá ese efecto cuando la gente vaya a buscar y trate de conocer qué se declaró como patrimonio de la humanidad\n",
      "–¿a qué se compromete méxico con esta inscripción ¿de qué manera vigilará la unesco la salvaguardia de este nuevo patrimonio\n",
      "–lo que se premia en el caso de la cocina es la autenticidad y la capacidad de evolucionar de cambiar con una base propia en el caso de lo inmaterial no se sigue lo mismo que con el patrimonio cultural tangible el cual no debe ser alterado\n",
      "lo importante es que la cocina siga viva la unesco estará al tanto de que se preserve no sólo en el caso de michoacán sino de las otras regiones de méxico que sus elementos el chile el maíz y el frijol se mantengan\n",
      "esos elementos están en todas las casas mexicanas en las culturas campesina criolla mestiza son productos muy presentes y para sacarlos resulta muy difícil\n",
      "sobre la inclusión de los parachicos la festividad religiosa que tiene lugar del number al number de enero en chiapa de corzo el organismo de la onu sostuvo que podrá contribuir a la notoriedad del patrimonio cultural inmaterial mostrando al mismo tiempo cómo una tradición cultural refuerza la cohesión social y la solidaridad entre las comunidades que la mantienen\n",
      "la música la danza la artesanía las ceremonias religiosas y las diversiones forman parte de esta festividad en honor del señor de esquipulas y de dos santos del catolicismo san antonio abad y san sebastián siendo especialmente honrado este último\n",
      "y de la pirekua el canto tradicional de los purépechas incluido en la lista el organismo detalló que su inscripción fue aprobada al considerar que está profundamente arraigado en la vida social se transmite de generación en generación y fortalece el sentimiento de identidad y continuidad de la comunidad\n",
      "asimismo su reconocimiento podrá contribuir a la notoriedad del patrimonio cultural inmaterial fomentando al mismo tiempo la comprensión mutua y el respeto de la creatividad humana las medidas de salvaguardia propuestas se centran esencialmente en la representación y la transmisión y se benefician del apoyo activo del estado y de la comunidad purépecha la cual participó en la preparación de la candidatura y en las medidas de protección propuestas sus dirigentes han otorgado su consentimiento libre previo y con conocimiento de causa\n",
      "Comentario 13: \n",
      " cereales con lsd el desayuno de los campeones en silicon valley\n",
      "los nuevos gurús de la tecnología piratean su cerebro para viajar hasta el infinito y más allá\n",
      "algo no entendieron en el imperio de las nuevas tecnología cuando les explicaron cómo hay que desayunar para rendir durante todo el día en silicon valley los días son largos y las jornadas laborales de number horas no existen o entras en la rueda o te quedas fuera la presión laboral y la búsqueda de la excelencia logra que algunos apuesten por el camino rápido y decidan despertar el ingenio con gasolina extra o lo que es lo mismo un poco de drogas estimulantes de buena mañana\n",
      "la práctica se conoce como microdosis y tiene por objeto ser un trabajador más productivo tomando pequeñas cantidades de drogas psicodélicas como el ácido lsd las setas mágicas o la mescalina del peyote\n",
      "pero flipar delante de la pantalla no es lo que los techies quieren conseguir más energía más creatividad y más concentración son los tres ases con los que todo los empleados sueñan y que la leyenda cuente que steve jobs y bill gates se apuntaran al carro del biohacking para poder crear sus imperios tecnológicos agrandan el mito de esta peligrosa práctica\n",
      "en concreto el lsd imita los efectos de la serotonina conocida por mejorar el estado de ánimo que a su vez activa el córtex prefrontal dicho a grandes rasgos estimula los sectores que se encargan del aprendizaje y la memoria\n",
      " pero estos no son los únicos efectos de tomar estas drogas a pequeñas dosis porque también ofrecen mejor resistencia al estrés a la ansiedad y facilidad para conciliar el sueño\n",
      "según el dr james fadiman la microdosis hace que los usuarios estén más cómodos en situaciones sociales sean más creativos menos propensos a sufrir migrañas a tener ganas de fumar o de tomar adderall una medicina usada por los que sufren trastorno déficit de atención y por los que quieren trabajar más horas de la cuenta\n",
      "pese a todo siguen siendo drogas que modifican la actividad cerebral y el mismo fadiman afirma que todavía no hay estudios clínicos concluyentes para estimar los beneficios y los daños que pueden provocar aún a pequeñas dosis\n",
      "porque según el doctor barry l jacobs del departamento de psicología de la universidad de princeton se distinguen dos efectos que el lsd recreativo puede causar psicodelia y euforia o paranoia y psicosis y jugar con estos dos monstruos en el trabajo te puede costar tu puesto y tu salud\n",
      "Comentario 14: \n",
      " como nunca peña nieto felicita a su hijo diego peña díaz por su cumpleaños\n",
      "este domingo el cuarto hijo del presidente de méxico fruto de su relación extramarital con maritza díaz cumplió number años y le mandó un mensaje públicamente\n",
      "aunque desde hace años fue el propio enrique peña nieto quien confirmara que tenía un cuarto hijo diego alejandro peña díaz –consecuencia de la relación que mantuvo con maritza díaz cuando estaba casado con mónica pretelini es la primera vez que le manda un mensaje público con motivo de su cumpleaños\n",
      "diego llegó a los number años de edad y el presidente de méxico publicó en su cuenta oficial de facebook una foto junto a él en los pinos y escribió ¡feliz cumpleaños diego deseo que seas muy feliz hijo que tengas una vida llena de logros y realizaciones\n",
      "sin duda alguna ha sido la publicación más popular de peña nieto en su cuenta de facebook pues hasta el momento ha logrado más de number mil reacciones positivas y normalmente la mayoría de sus post no llegan a doble dígito\n",
      "recordemos que fue en number cuando aún no era presidente de méxico que habló durante una entrevista hecha por katia dartigues sobre su cuarto hijo no es una excusa ni una salida fácil decir por razón de una crisis entonces yo tengo otra relación pero así me ocurrió tuve otra relación de la que hubo un hijo ya como gobernador del estado de méxico numbernumber le platiqué el tema mónica conoció muy bien el asunto lo que había ocurrido fuera del matrimonio cuando lo planteó no fue fácil hizo crisis y luego nos generó yo creo también un momento de reencuentro por eso puedo decir que al menos estaba estable en el momento en que lamentablemente pierde la vida mi señora number comentó entonces\n",
      "Comentario 15: \n",
      " el gobierno subvencionará alargamientos de pene a españoles con menos de number cm\n",
      "un portavoz del pp ha asegurado en su último comunicado que a partir de number una nueva subvención ayudará con lo que consideran un grave problema en nuestro país mejorar la autoestima y la vida sexual de todos los españoles que tengan un pene de menores dimensiones a la media del país estipulada en number centímetros\n",
      "desde el gobierno han querido aclarar que estamos en tiempos difíciles económicamente nos parece una buena medida para conservar el orgullo patrio el aumentarlas dimensiones de los miembros de nuestros ciudadanos la medida ha sido acogida de buena forma en las redes sociales aunque la mayoría de comentarios se han realizado de manera anónima\n",
      "algunos usuarios han mostrado su descontento a mi me mide solo number no es justo que no pueda beneficiarme de esta ayuda por medio centímetro por primera vez en mi vida he deseado tenerla más pequeña y otros han reparado en que cuantos más españoles se operen más subirá la media nacional y por lo tanto habrá que actualizar esta medida al final acabamos todos con pollas de number cm\n",
      "Comentario 16: \n",
      " las mujeres tendrán que realizar doble exámen práctico para conseguir el carnet\n",
      "a partir de septiembre las mujeres españolas tendrán que realizar el examen práctico de conducir por partida doble para poder conseguir el carnet de conducir\n",
      "la controvertida medida será puesta en marcha debido según los responsables de tráfico a un porcentaje más alto de accidentes desencadenados por el sexo femenino es muy típico decir que las mujeres son más torpes al volante y eso no es así pero si es cierto que la mayoría de accidentes son provocados directa o indirectamente por mujeres y por lo tanto creemos necesario exigirles realizar dos veces el examen práctico para intentar reducir estas cifras\n",
      "por otra parte han querido asegurar que no se trata de discriminación sexual ni nada parecido está demostrado también que son más prudentes al volante que los hombres pero en contra de lo que podría pensarse esa prudencia se ve también repercutida en ese mayor número de accidentes provocados aún queda tiempo hasta septiembre y se espera que la puesta en marcha de la medida no será sencilla\n",
      "Comentario 17: \n",
      " alejandra ávalos explota amlo hundirá a méxico en la pobreza\n",
      "alejandra avalo estallo tras el triunfo del candidato a la presidencia andres manuel lopez obrador\n",
      "alejandra señalo que en el proceso electoral hubo un fraude pues asegura que no habian tantas personas apoyando al candidato y lider de morena la actriz fue consultada sobre que opinaba del triunfo y declaro para nadie es un secreto que amlo hundirá a méxico en la pobreza ese señor no sabe manejar un país\n",
      "Comentario 18: \n",
      " suecia dará un sueldo a las abuelas que cuiden de sus nietos de lunes a viernes\n",
      "este mes arranca un proyecto piloto para que cobren unos number euros mensuales por su labor\n",
      "sueciasu ayuda resulta vital en la mayoría de las familias y en suecia por fin ha llegado un merecido reconocimiento hacia los abuelos que se quedan al cuidado de sus nietos el gobierno sueco comenzará a aplicar un programa piloto que consiste en pagar a las abuelas que cuidan a sus nietos de lunes a viernes con el objetivo de mejorar el nivel de empleo de las mujeres\n",
      "el programa piloto será implementado en una primera fase en las ciudades de estocolmo y dalarna de este modo en una primera fase mil familias ser verán incluidas en la iniciativa las abuelas que perciben pensiones de entre number y number coronas suecas numbernumber euros de manera mensual podrán obtener un ingreso extra de number euros por estar al cuidado de los nietos de lunes a viernes mientras sus hijos nueras y yernos trabajan a tiempo completo\n",
      "posteriormente después de seis meses de transcurrida la primera etapa del plan podrían incorporarse más familias a la iniciativa\n",
      "el programa cumple con el doble objetivo de premiar a las abuelas por su inestimable labor y también de fomentar que más mujeres en edad activa de trabajo se incorporen al mercado laboral mediante lo cual el estado sueco podrá ingresar más dinero en concepto de tributos fiscales\n",
      "en españa uno de cuatro abuelos cuida a sus nietos\n",
      "en españa la implicación de los abuelos en la vida de las familias y la solidaridad intergeneracional son cada vez más uno de los factores clave a la hora de asegurar el sostenimiento de las familias en media de la complicada coyuntura económica por la que pasan muchos hogares y para evitar un estallido social según señalan varias organizaciones entre las que se encuentran mensajeros de la paz o el observatorio the family watch\n",
      "uno de cuatro abuelos cuida de sus nietos en nuestro país y les dedican una media de siete horas diarias según datos de la encuesta de salud envejecimiento y jubilación de europa share\n",
      "no obstante esa tendencia puede generar efectos colaterales un exceso de tiempo en el cuidado de los nietos por parte de los abuelos puede generar la paradoja de la doble dependencia que tiene lugar cuando la persona mayor padece una dolencia o unas limitaciones que requieren cuidados precisos que no se pueden llevar a cabo porque tienen que cuidar de los nietos\n",
      "con la crisis económica registrada en nuestro país en los últimos años la conciliación entre la vida laboral y familiar es más complicada por lo que los padres requieren cada vez más que los abuelos cuiden de los niños una costumbre que se ha extendido gracias al aumento de la esperanza de vida que alcanza los number años de media en el caso de las mujeres la esperanza de vida se sitúa en los number años bastante superior a la de los hombres con number años\n",
      "para evitar que esto sea un auténtico problema desde la sociedad española de geriatría y gerontología segg recomiendan que los mayores eviten sobrecargarse realizando únicamente las tareas de las que se vean capaces y reserven un espacio propio para sus cuidados y ocio además es importante establecer unos límites tanto a los padres como a los hijos para que el tiempo que los abuelos pasen con los nietos sea lo más gratificante posible\n",
      "se evita así el fenómeno que del denominado síndrome de la abuela esclava y que se da más entre las abuelas que entre los abuelos en aquellos casos en que la abuela se hace cargo de cada vez más tareas llevar y recoger a los niños del colegio hacer la comida etc\n",
      "Comentario 19: \n",
      " un éxito la hamburguesa de flor de cempasúchil lanzada por mcdonalds\n",
      "un gran éxito ha resultado la promoción de mcdonalds para este día de muertos la idea de su departamento de marketing se voló la barda de acuerdo a lo que dicen varios conocedores de la cultura del fast food\n",
      "se trata de la hamburguesa de flor de cempasúchil la cual está a la venta desde el pasado number de octubre y se mantendrá por el resto de esta semana\n",
      "macario rogers director de nuevos productos de la corporación mcdonalds dijo en entrevista con el que la idea fue llamar la atención de los consumidores mexicanos nos dimos cuenta que usan mucho esa flor durante sus celebraciones de día de muertos así que supusimos que debía ser muy sabrosa\n",
      "rogers reveló que en un principio no creían que algo así fuera comestible pero que se enteró que la flor de calabaza es un manjar en méxico si comen flor de calabaza ¿por qué no iban a comer flor de cempasúchil\n",
      "la hamburguesa se elabora con los ingredientes tradicionales catsup mostaza pepinillos y queso en vez de la carne lleva la emblemática flor todo va dentro de un pan de muerto recién horneado\n",
      "hemos vendido ya casi un millón de hamburguesas de cempasúchil la mayoría en nuestras sucursales de montebello north haverbrook y cocula presumió rogers quien admitió que los compradores no repiten quizá es demasiado buena como para comer más de una no lo sé no la he probado\n",
      "para navidad mcdonalds ya prepara la hamburguesa de heno de pesebre ¡será otro hitazo finalizó rogers\n",
      "Comentario 20: \n",
      " nueva york dejará de arrestar a quienes fumen marihuana en la calle\n",
      "el alcalde ordena a la policía que modifique sus tácticas tras las denuncias por detenciones raciales\n",
      "los arrestos en nueva york por posesión y consumo de marihuana están a muy poco de ser una cosa del pasado el alcalde bill de blasio da un mes de plazo a su departamento de policía nypd para que reforme las tácticas que sigue al reprimir a quienes fumen cannabis en zonas públicas el cambio se anuncia después de que las estadísticas revelaran una clara discriminación racial en las detenciones\n",
      "la nypd realizó el año pasado number arrestos relacionados con la posesión o el consumo de marihuana es una cifra muy inferior a las number detenciones en number en buena medida porque desde hace tres años se emiten citaciones –multas que no crean antecedentes penales eso permitió que se redujeran en un number los arrestos por toda la ciudad cuando se comparan con las cifras de number\n",
      "pero las estadísticas reflejan que el number de los detenidos son negros o de origen latino es decir las personas de color tienen ocho veces más posibilidades de ser detenidas que un blanco pese a que el nivel de consumo es similar el comisario jefe de la nypd james o´neill niega que sus policías actúen siguiendo un patrón racial aunque sí admite que se deben revisar las prácticas\n",
      "el propósito explicó es concentrar la actuación policial en los casos que representen un riesgo para la seguridad pública y conseguir al mismo tiempo una aplicación que sea consistente con los valores de justicia para reforzar la confianza de las comunidades hacia la labor de los agentes debemos poner fin a detenciones innecesarias y a la disparidad en la aplicación de las leyes insistió el alcalde\n",
      "esta disparidad es intolerable denuncia el reverendo al sharpton debe acabar el debate sobre la actuación policial sucede mientras el estado de nueva york trata de decidir legalizar la marihuana los fiscales del distrito de manhattan cyrus vance y de brooklyn eric gonzález anunciaron también que desde agosto no procesarán a la mayoría de las personas arrestadas por consumir hierba\n",
      "la doble misión de la oficina del fiscal señala vance es una ciudad segura y un sistema judicial más equitativo los arrestos y procedimientos penales predominantemente contra negros e hispanos no sirven a estos objetivos gonzález añade que hay que hacer más para garantizar que el sistema sea justo pero también señala que se debe establecer una serie de excepciones en el ámbito de la seguridad\n",
      "el gobernador de nueva york andrew cuomo quiere formar un grupo que estudie los beneficios de la legalización de la marihuana el cannabis se ve cada vez menos como una puerta de entrada al consumo de estupefacientes en paralelo se calcula que podría aportar más de number millones de dólares en ingresos fiscales a la ciudad y otros number millones al conjunto del estado\n",
      "Comentario 21: \n",
      " la automotriz audi anuncia que cambiará su nombre en méxico\n",
      "los automóviles marca audi se han visto envueltos en vergonzosas situaciones en la ciudad de méxico debido a sus conductores que de inmediato han sido expuestos en las redes sociales es por ello que la empresa alemana ha decidido tomar cartas en el asunto pues esto está causándoles muy mala publicidad\n",
      "el vocero de la empresa en méxico el señor albert wiennerkammerorchester informó que a partir de ahora la marca se llamará cuando menos en méxico ehrlich que en alemán significa honesto\n",
      "das ist richtig junger mann entre todos los lordaudi y ladyaudi que ya hay en méxico el nombre de nuestros automóviles se ha visto muy desprestigiado como empresa no nos gusta que nuestro nombre se relacione con gente prepotente irresponsable y poco ética gott helfe uns por ello nuestro nuevo nombre busca relacionarse más con aspectos más positivos y de ese modo todos los lords y ladies ya no tendrán nada que ver con nosotros\n",
      "a partir del día de mañana ninguna agencia venderá alguno de estos automóviles sin realizarle antes al comprador un examen psicológico y sólo se venderá el auto si demuestra tener el nivel ético y moral que busca la empresa la industria alemana tiene una reputación que cuidar y no dejaremos que detalles como éste la arruinen deutschland ist wunderschön\n",
      "esperamos no ver próximamente a los herrehrlich y frauehrlich\n",
      "Comentario 22: \n",
      " ¿quién es beatriz gutiérrez la esposa de amlo que ha dicho que no quiere ser primera dama de méxico\n",
      "beatriz gutiérrez no quiere ser llamada primera dama porque dice es un término clasista\n",
      "la esposa de lópez obrador es ferviente defensora de las mujeres\n",
      "es periodista escritora y académica\n",
      "cnn español se define a sí misma como mujer de palabra y de letras madre de familia aprendiz vitalicia de todo y demócrata de tiempo completo es beatriz gutiérrez müller la esposa del virtual nuevo presidente de méxico andrés manuel lópez obrador que ha dicho que no quiere ser la primera dama de méxico\n",
      "para la verdadera transformación de la vida pública en méxico tenemos que comenzar a pensar y actuar diferente dijo gutiérrez durante un mitin de campaña a finales de mayo de este año en él defendió poner fin a la idea de la primera dama porque en méxico no queremos que haya mujeres de primera ni de segunda quiero ser su compañera como hasta hoy y también quiero ser beatriz\n",
      "bajo su punto de vista el concepto de primera dama es algo clasista por lo que pidió no ser llamada así estemos o no de acuerdo ahora nuestro país es un sistema presidencial de modo que el poder presidencial no debe ser de una familia ni de un matrimonio la compañera de un presidente debe participar en todo lo que pueda hasta un límite eso es ser una compañera dijo ante la multitud congregada\n",
      "no hablo de una esposa que se convierte en una sombra complaciente silenciosa dócil ante un sistema que perpetúa las desigualdades hablo también de una compañera que está en las buenas y en las malas al lado atrás delante pensando y haciendo de manera crítica y constructiva y haciendo lo suyo también insistió\n",
      "para ella ser la esposa del presidente es ser mujer que sabe identificar las acciones transformadoras requeridas para integrar un profundo plan de políticas públicas ser una observadora y una persona activa a la vez para el beneficio de todos\n",
      "gutiérrez es una ferviente defensora de los derechos de las mujeres tenemos que creer más en nosotras y en nuestro poder defender lo que hacemos y contagiar al mundo masculino de nuestra mirada femenina nosotras decimos las cosas de otro modo es la hora de hablar con nuestro tono y nuestra intención vamos a feminizar la vida pública dijo en la misma ocasión\n",
      "ese mismo día también contó cuáles son dos de sus grandes pasiones la historia si tenemos presente el pasado aprendemos y comprendemos señaló y la poesía me gusta mucho escribir me dedico mucho a las artes mencionó ella misma en una entrevista con nación number en abril\n",
      "como escritora es autora de poemas crónicas cuentos y de las novelas larga vida al sol number viejo siglo nuevo planeta number y dos revolucionarios a la sombra de madero ariel number según la biografía escrita en la editorial planeta\n",
      "es periodista de profesión tiene una licenciatura en comunicación y trabajó varios años en el diario el universal y también académica de conacyt según dijo ella en la mencionada entrevista además cuenta con un doctorado en teoría literaria por la uam iztapalapa según la biografía de su editorial\n",
      "de hecho fue ejerciendo de periodista cuando conoció a lópez obrador con quien lleva number años casada contaron ambos en una entrevista en su casa para la televisión azteca fue en puebla durante una entrevista contó lópez obrador él explicó que cuando ganó la alcaldía de ciudad de méxico la invitó a formar parte del gabinete y allí ejerció como asesora de comunicación fue después de la muerte de la primera esposa de lópez obrador cuando se enamoraron contó este\n",
      "a los dos les gusta proteger su intimidad pero especialmente a ella yo no soy una persona pública con él es suficiente contó gutiérrez durante la entrevista televisada que aseguró que era la primera que daban dentro de su hogar\n",
      "juntos tienen un hijo algo que gutiérrez destaca con especial énfasis porque dice es a lo que más tiempo dedica en su día a día\n",
      "un último apunte asegura que no le interesa la política no tengo intereses político electorales y para ser más clara no voy a ser candidata a nada ni seré funcionaria pública dijo también en el mencionado mitin quiero seguir haciendo lo que me realiza ser madre procurar a mi familia y continuar con mi profesión que me gusta mucho\n",
      "Comentario 23: \n",
      " le llega una factura de number euros de la compañía de la luz después de cargar su coche eléctrico en casa el ahorro que supone utilizar un coche eléctrico parece no haber sido tal para rafael un usuario que recibió una factura de la compañía eléctrica de más de number euros tras haber cargado su vehículo en un enchufe de su domicilio\n",
      "rafael adquirió un coche eléctrico un mes atrás auspiciado por los consejos de su cuñado que le aseguró que se podía cargar en casa por un par de euros tras varios intentos en los que el diferencial del cuadro eléctrico saltó finalmente consiguió conectar el vehículo con un alargador al enchufe de la mesita de noche rápidamente la carga estaba completa pero la sorpresa por llegar al ver la factura rafael telefoneó a su cuñado me dijo que es lo que le había dicho en el bar el primo de uno que estuvo a punto de comprarse uno eléctrico en la compañía de la luz se limitaron a felicitarle por ser el mejor cliente del mes prometiéndole que le mandarían un jamón a final de año si seguía así\n",
      "con el disgusto en el cuerpo el hombre ha decidido apagar todos los dispositivos eléctricos de su hogar ahora se las apaña con cirios y cocinas de camping gas\n",
      "Comentario 24: \n",
      " taco bell registra la palabra taco — los tacos mexicanos deberán cambiar de nombre\n",
      "otra tremenda noticia empantana aún más las frágiles relaciones entre méxico y los estados unidos esta vez se trata de algo con pocos precedentes pues la cadena de comida rápida taco bell logró el registro a nivel mundial de la palabra taco con esto las taquerías de méxico tendrán que ponerle otro nombre a sus productos\n",
      "el proceso nos llevó un par de años y se mantuvo en secreto pero al final triunfamos reveló brian niccol ceo de taco bell estuvimos registrando la palabra en cada país y sólo nos faltaba méxico apenas esta mañana nos entregaron la documentación del instituto mexicano del derecho de autor sic y del instituto mexicano de la propiedad intelectual\n",
      "fuentes consultadas por el aseguran que tanto el instituto nacional del derecho de autor como el impi aceptaron generosas donaciones de taco bell a fin de agilizar los trámites mismos que estuvieron listos en unas cuantas horas\n",
      "finalmente ganamos agregó niccol ahora los mexicanos ya no nos podrán decir que lo que vendemos no son tacos ¡ahora lo que ellos hacen no son tacos\n",
      "el presidente de los estados unidos donald trump felicitó a la compañía por su iniciativa y prometió una mayor exención fiscal a fin de que puedan expandirse a más países taco bell llevará los verdaderos tacos a todo el mundo deliciosos no como los faketacos de los mexicanos tuiteó\n",
      "Comentario 25: \n",
      " taco con estrella solitaria\n",
      "demarcas lawrence randy gregory y tyrone crawford tienen compañía vidauntae charlton mejor conocido como taco el joven ala defensiva egresado de la universidad de michigan fue seleccionado por los cowboys en la posición número number global del draft numberpero en estas épocas merece la pena primero dejar en claro como vidauntae se convirtió en taco\n",
      "nacido dos meses prematuro el number de noviembre de number el pequeño vidauntae siempre fue sobre protegido por su madre tamara como toda madre primeriza y al saber que su hijo era prematuro extremaba todas las precauciones al grado de siempre tener a vidauntae cubierto por cobijas enrollado literalmentefue por ello que su abuela comenzó a decirle que parecía un taco además en esos días en la televisión la publicidad de la cadena de restaurantes taco bell tenia un slogan a manera de gingel que decía corre a la frontera de ahí el juego con el recién nacido es un taco tratando de correr a la frontera de las cobijasel juego de palabras de su abuela hoy es una marca registrada y un apodo de mucho sabor seguido y anhelado por más de diez equipos desde el año pasado charlton declinó ir al draft en number y decidió jugar su cuarto año año con los wolverines para algunos eso le costó caer hasta el número number total\n",
      "pero la decisión no fue del todo mala taco viene de su mejor año como colegial registró diez capturas de quarterback fue pieza clave en la defensiva del coach jim harbaugh incluso fue nombrado all pro en el big tenpor algo jerry jones dueño de los cowboys no dudo y giro la orden de ir por charlton un ala defensiva clásica sin invenciones un cazador natural un jugador rápido que mide number metros y pesa number kilos jones le prometió reclutarlo si tenia la oportunidad al llegar el peldaño número numberlos cowboys requieren que taco sea de impacto inmediato las ilusiones de llegar al super bowl urgen de una defensiva sólida constante que marque diferenciapor lo pronto en la mesa el sabor de la frontera llegó\n",
      "Comentario 26: \n",
      " chilangos aprueban aborto con number semanas de gestación por si sale fea la criatura\n",
      "méxico con number votos a favor y number en contra el congreso de la unión aceptó una iniciativa de ley que propone que entre la comunidad chilanga el aborto pueda ser legal hasta las number semanas de gestación o lo que es lo mismo hasta number años después de que la mujer se embarace\n",
      "la ley solo será válida en la cdmx donde el aborto ya era legal y solo entre personas que demuestren ser originarias de la ciudad de méxico esto con la finalidad de disminuir la contaminación visual ya que está comprobado que cuando uno de los padres es chilango hay altas posibilidades de que el niño salga demasiado antiestético y esto genera una mala imagen de méxico tanto a nivel nacional como internacional\n",
      "está comprobado que los chilangos poseen un mal genético que los hace hablar cantadito oler a sobaco todo el tiempo tener manía de comer todos sus alimentos con un bolillo irle al américa y por ende ser asaltantes y sobre todo nacer con un físico muy poco agraciado\n",
      "estas personas los chilangos denigran al país tanto a nivel nacional como internacional incluso entre ellos se avergüenzan de sí mismos\n",
      "la gente que los ve cree que todos los mexicanos son así y están equivocados no solo contaminan con sus mañas también con su físico poco estético comentó un diputado\n",
      "por su parte otro político señaló que con esta iniciativa esperan disminuir las personas que en un futuro sean devotos de san juditos tadeo y se dediquen a delinquir está comprobado que number de cada number asaltantes son chilangos y no solo operan en la cdmx sino que se van a todo el país a cometer sus fechorías\n",
      "no podemos permitir que los chilangos se reproduzcan pero si darles la opción de abortar incluso si la criatura ya nació el number de los chilangos espera que su hijo sea rubio y de ojos verdes por eso les ponen nombres como brayan kevin kymberly etc y si no nacen güeros esperan que con llamarlos así por arte de magia se transformen en gringos\n",
      "al ver que esto no sucede y la criatura se queda fea se decepcionan y por eso ahora será opcional abortar hasta las number semanas de gestación para que no haya arrepentimientos después puntualizó\n",
      "Comentario 27: \n",
      " lanzan eau de chilang la primer fragancia pensada para los habitantes de la cdmx\n",
      "ha sido lanzada la primera fragancia pensada para hombres y mujeres que quieran saber qué se siente vivir en la ciudad de méxico y también para los capitalinos que han tenido que dejar la metrópoli y extrañan el aroma que sólo se puede experimentar en casa\n",
      "la creación de este producto se la debemos a la prestigiosa casa francesa parfumerie fregonare aixenprovence y será la sensación en este verano\n",
      "este reportero fue enviado hasta francia para poder platicar con collete cucomont presidenta de la fregonare\n",
      "nuestros ingenieros han pasado años tratando de sintetizar los aromas tradicionales de la ciudad de méxico pues hemos visto que muchas personas cuando salen de ahí hasta sonríen cuando un camión echa humo pues eso les recuerda su ciudad por eso después de mucho trabajo por fin lo logramos y hacemos la presentación de eau de chilang la primer fragancia hecha y pensada para los chilangos\n",
      "esta fragancia de acuerdo a cucomont contiene aromas diversos como gasolina sudor del metro por las tardes suadero y pastor rosa venus tamal y champurrado así como la clásica torta de milanesa con quesillo y la de chilaquil con huevo y claro mona de guayaba y tamarindo cerveza de estadio y tripa dorada\n",
      "el fijador de esta fragancia se basa en resistol number para que el aroma sea todavía más agradable para quien la use y sienta que sin importar donde se encuentre llevará consigo la esencia de la ciudad de méxico añadió madame cucomont\n",
      "la casa fregonare prepara además changoleón una loción para después de afeitarse y un perfume extraconcentrado que se llamará jamaicón number\n",
      "Comentario 28: \n",
      " casi listo el relanzamiento de myspace ahora permitirá hacer todo lo que la competencia no permite\n",
      "specific media llc y justin timberlake quienes compraron en number myspace la red social que surgió antes de que a las redes sociales se les conociera como redes sociales se preparan para un segundo relazamiento esta vez con el objetivo de entrar de lleno a la lucha por posicionarse como la favorita de los usuarios su estrategia ofrecer todo aquello que no se permite en otras redes sociales pero que los usuarios de todas formas hacen\n",
      "el anuncio se hizo en una suntuosa fiesta misma que contó con la participación de justin bieber y los tucanes de tijuana los responsables de la red social fueron claros en los propósitos que persiguen en el relanzamiento \n",
      "bullying trolling piratería stalking conexión a sitios pornográficos y más acciones que están mal vistas en redes sociales como facebook o twitter serán permitidos próximamente dentro de myspace esto para complacer a los usuarios\n",
      "la gente hace todo eso siempre y no les dicen o hacen nada así que en myspace simplemente lo oficializaremos como medida de marketing declaró el conocido cantante y actor justin timberlake uno de los propietarios de myspace\n",
      "cuando se le cuestionó si no temían que sus acciones les trajeran consecuencias legales timberlake declaró\n",
      "todo es cuestión de nomenclatura tú dices piratería yo digo compartir información tú dices bullying yo digo reírse con los demás tú dices stalkeo y yo digo romanticismo ¿qué tiene eso de malo\n",
      "justin timberlake\n",
      "tú dices juan y yo digo pedro\n",
      "para todos aquellos que no sepan que es myspace cabe explicar que esta red social permitía subir fotos videos canciones recibir comentarios chatear con los amigos y todo lo que actualmente se puede hacer en facebook tristemente myspace surgió en una época en la que uno sólo se podía conectar a internet a través de una computadora y ésta tardaba mucho tiempo en cargar por lo cual hacer todo lo anterior era harto aburrido\n",
      "Comentario 29: \n",
      " histórico fallo de la suprema corte el pozole deja de ser mexicano\n",
      "en un hecho sin precedentes la suprema corte de justicia de la nación falló a favor de la empresa transnacional monsanto otorgándole todos los derechos sobre el llamado maíz pozolero\n",
      "la polémica compañía líder en ingeniería genética que ha sido a través de los años fuertemente criticada en todo el mundo mostró su satisfacción con esta resolución otorgando un donativo de medio millón de dólares a cada uno de los magistrados\n",
      "adri linder vocero de monsanto en méxico anunció lo que sucederá ahora con el maíz pozolero\n",
      "nuestra empresa se congratula por esta decisión imparcial de los jueces mexicanos esto nos permitirá tomar el control de lo que llaman maíz pozolero que ahora será renombrado como big fat american corn\n",
      "monsanto clasificará los tipos de maíz pozolero big fat american corn con las siguientes claves\n",
      "el impacto que esto tendrá para la industria pozolera en méxico todavía no puede ser calculado toda vez que monsanto usará el number de la producción de big fat american corn ® para engordar a los pollos mutantes de cuádruple pechuga y cuatro patas de kentucky fried chicken\n",
      "dejaremos que la gente de méxico siga haciendo su pozole aclaró linder pero ahora lo tendrán que llamar monsanto soup ®\n",
      "monsanto cobrará por cuestión de derechos el number de la venta neta de monsanto soup ® en cada pozolería monsanto soup restaurant ®\n",
      "el siguiente objetivo de la compañía son los frijoles\n",
      "Comentario 30: \n",
      " el papa francisco autoriza a las monjas de clausura a usar redes sociales con prudencia\n",
      "el vaticano publicó escrito sobre la vida de las monjas de clausura\n",
      "en él se autoriza a las religiosas a usar las redes sociales con prudencia\n",
      "el papa francisco advirtió de los peligros de estos medios de comunicación social contra el silencio de los conventos\n",
      "cnn español el vaticano hizo público este martes number de mayo la instrucción cor orans sobre la vida de las monjas de clausura el texto aprobado por el papa francisco el number de marzo incluye una parte específica para regular el uso de los medios de comunicación social de las religiosas femeninas de vida contemplativa en ella se autoriza al uso de las redes sociales pero con prudencia\n",
      "el papa francisco expresa que esa normativa específica sobre los medios de comunicación social en todas sus formas tiene por objetivo la salvaguardia del recogimiento y del silencio pues dice cuando se llena la clausura de ruidos noticias y de palabras se puede vaciar el silencio contemplativo es por esto que el pontífice recuerda que el recogimiento y el silencio es esencial para llevar una vida contemplativa\n",
      "estos medios por lo tanto se deben usar con sobriedad y criterio indica el pontífice en su escrito en él indica que el criterio debe ser sobre los contenidos pero también sobre la cantidad de informaciones y el tipo de comunicación\n",
      "estas continúa deben estar al servicio de la formación para la vida contemplativa y no deben distraer ni evadir de la vida fraterna en comunidad\n",
      "el uso de los medios tampoco puede ser nocivo para la vocación religiosa ni convertirse en obstáculo para una vida dedicada a la contemplación propia de los conventos\n",
      "en suma el uso de los medios de comunicación se puede permitir en el monasterio cuando sea por razones de información formación y trabajo ahora bien el texto insiste en la necesidad del prudente discernimiento para la utilidad común\n",
      "las monjas procuran tener la debida información sobre la iglesia y el mundo no con multitud de noticias sino sabiendo escoger las que son esenciales a la luz de dios para llevarlas a la oración en sintonía con el corazón de cristo concluye el apartado dedicado al uso de los medios por las religiosas\n"
     ]
    }
   ],
   "source": [
    "for i, comment in enumerate(train['text_lower'][50:80]):\n",
    "    print('Comentario %d: \\n'%(i+1),comment)"
   ]
  },
  {
   "cell_type": "code",
   "execution_count": 21,
   "metadata": {},
   "outputs": [],
   "source": [
    "import spacy"
   ]
  },
  {
   "cell_type": "code",
   "execution_count": 22,
   "metadata": {},
   "outputs": [],
   "source": [
    "nlp = spacy.load('es')"
   ]
  },
  {
   "cell_type": "code",
   "execution_count": null,
   "metadata": {},
   "outputs": [],
   "source": [
    "train['text_comment'] = train['Text'].apply(lambda x: ' '.join([token.lower_ for token in list(nlp(x)) if (token.is_stop==False)]))"
   ]
  },
  {
   "cell_type": "code",
   "execution_count": 40,
   "metadata": {},
   "outputs": [],
   "source": [
    "from wordcloud import WordCloud"
   ]
  },
  {
   "cell_type": "code",
   "execution_count": 41,
   "metadata": {},
   "outputs": [],
   "source": [
    "text = train['text_comment'].to_list()"
   ]
  },
  {
   "cell_type": "code",
   "execution_count": 45,
   "metadata": {
    "scrolled": false
   },
   "outputs": [],
   "source": [
    "aux = nlp('és lo que tiene la inmigración sin control que te entra gente así este por qué mira es un caso extremo y ni se espero a desembarcar')"
   ]
  },
  {
   "cell_type": "code",
   "execution_count": 47,
   "metadata": {},
   "outputs": [
    {
     "data": {
      "text/plain": [
       "[és,\n",
       " lo,\n",
       " que,\n",
       " tiene,\n",
       " la,\n",
       " inmigración,\n",
       " sin,\n",
       " control,\n",
       " que,\n",
       " te,\n",
       " entra,\n",
       " gente,\n",
       " así,\n",
       " este,\n",
       " por,\n",
       " qué,\n",
       " mira,\n",
       " es,\n",
       " un,\n",
       " caso,\n",
       " extremo,\n",
       " y,\n",
       " ni,\n",
       " se,\n",
       " espero,\n",
       " a,\n",
       " desembarcar]"
      ]
     },
     "execution_count": 47,
     "metadata": {},
     "output_type": "execute_result"
    }
   ],
   "source": [
    "[tokens for tokens in aux]"
   ]
  },
  {
   "cell_type": "code",
   "execution_count": 51,
   "metadata": {},
   "outputs": [],
   "source": [
    "nltk_token = nltk.SnowballStemmer(language='spanish')"
   ]
  },
  {
   "cell_type": "code",
   "execution_count": 56,
   "metadata": {},
   "outputs": [
    {
     "data": {
      "text/plain": [
       "'podrias ven'"
      ]
     },
     "execution_count": 56,
     "metadata": {},
     "output_type": "execute_result"
    }
   ],
   "source": [
    "nltk_token.stem('Podrías venir')"
   ]
  },
  {
   "cell_type": "code",
   "execution_count": 57,
   "metadata": {},
   "outputs": [],
   "source": [
    "a = ['és lo que tiene la inmigración sin control que te entra gente así este por qué mira es un caso extremo y ni se espero a desembarcar', 'és lo que tiene la inmigración sin control que te entra gente así este por qué mira es un caso extremo y ni se espero a desembarcar']"
   ]
  },
  {
   "cell_type": "code",
   "execution_count": 61,
   "metadata": {},
   "outputs": [
    {
     "ename": "LookupError",
     "evalue": "\n**********************************************************************\n  Resource \u001b[93mpunkt\u001b[0m not found.\n  Please use the NLTK Downloader to obtain the resource:\n\n  \u001b[31m>>> import nltk\n  >>> nltk.download('punkt')\n  \u001b[0m\n  For more information see: https://www.nltk.org/data.html\n\n  Attempted to load \u001b[93mtokenizers/punkt/PY3/es.pickle\u001b[0m\n\n  Searched in:\n    - '/home/alberto/nltk_data'\n    - '/usr/nltk_data'\n    - '/usr/share/nltk_data'\n    - '/usr/lib/nltk_data'\n    - '/usr/share/nltk_data'\n    - '/usr/local/share/nltk_data'\n    - '/usr/lib/nltk_data'\n    - '/usr/local/lib/nltk_data'\n    - ''\n**********************************************************************\n",
     "output_type": "error",
     "traceback": [
      "\u001b[0;31m---------------------------------------------------------------------------\u001b[0m",
      "\u001b[0;31mLookupError\u001b[0m                               Traceback (most recent call last)",
      "\u001b[0;32m<ipython-input-61-94edbe1baa01>\u001b[0m in \u001b[0;36m<module>\u001b[0;34m\u001b[0m\n\u001b[0;32m----> 1\u001b[0;31m \u001b[0mnltk\u001b[0m\u001b[0;34m.\u001b[0m\u001b[0mword_tokenize\u001b[0m\u001b[0;34m(\u001b[0m\u001b[0ma\u001b[0m\u001b[0;34m[\u001b[0m\u001b[0;36m0\u001b[0m\u001b[0;34m]\u001b[0m\u001b[0;34m,\u001b[0m \u001b[0mlanguage\u001b[0m\u001b[0;34m=\u001b[0m\u001b[0;34m'es'\u001b[0m\u001b[0;34m)\u001b[0m\u001b[0;34m\u001b[0m\u001b[0;34m\u001b[0m\u001b[0m\n\u001b[0m",
      "\u001b[0;32m~/.local/lib/python3.8/site-packages/nltk/tokenize/__init__.py\u001b[0m in \u001b[0;36mword_tokenize\u001b[0;34m(text, language, preserve_line)\u001b[0m\n\u001b[1;32m    127\u001b[0m     \u001b[0;34m:\u001b[0m\u001b[0mtype\u001b[0m \u001b[0mpreserve_line\u001b[0m\u001b[0;34m:\u001b[0m \u001b[0mbool\u001b[0m\u001b[0;34m\u001b[0m\u001b[0;34m\u001b[0m\u001b[0m\n\u001b[1;32m    128\u001b[0m     \"\"\"\n\u001b[0;32m--> 129\u001b[0;31m     \u001b[0msentences\u001b[0m \u001b[0;34m=\u001b[0m \u001b[0;34m[\u001b[0m\u001b[0mtext\u001b[0m\u001b[0;34m]\u001b[0m \u001b[0;32mif\u001b[0m \u001b[0mpreserve_line\u001b[0m \u001b[0;32melse\u001b[0m \u001b[0msent_tokenize\u001b[0m\u001b[0;34m(\u001b[0m\u001b[0mtext\u001b[0m\u001b[0;34m,\u001b[0m \u001b[0mlanguage\u001b[0m\u001b[0;34m)\u001b[0m\u001b[0;34m\u001b[0m\u001b[0;34m\u001b[0m\u001b[0m\n\u001b[0m\u001b[1;32m    130\u001b[0m     return [\n\u001b[1;32m    131\u001b[0m         \u001b[0mtoken\u001b[0m \u001b[0;32mfor\u001b[0m \u001b[0msent\u001b[0m \u001b[0;32min\u001b[0m \u001b[0msentences\u001b[0m \u001b[0;32mfor\u001b[0m \u001b[0mtoken\u001b[0m \u001b[0;32min\u001b[0m \u001b[0m_treebank_word_tokenizer\u001b[0m\u001b[0;34m.\u001b[0m\u001b[0mtokenize\u001b[0m\u001b[0;34m(\u001b[0m\u001b[0msent\u001b[0m\u001b[0;34m)\u001b[0m\u001b[0;34m\u001b[0m\u001b[0;34m\u001b[0m\u001b[0m\n",
      "\u001b[0;32m~/.local/lib/python3.8/site-packages/nltk/tokenize/__init__.py\u001b[0m in \u001b[0;36msent_tokenize\u001b[0;34m(text, language)\u001b[0m\n\u001b[1;32m    104\u001b[0m     \u001b[0;34m:\u001b[0m\u001b[0mparam\u001b[0m \u001b[0mlanguage\u001b[0m\u001b[0;34m:\u001b[0m \u001b[0mthe\u001b[0m \u001b[0mmodel\u001b[0m \u001b[0mname\u001b[0m \u001b[0;32min\u001b[0m \u001b[0mthe\u001b[0m \u001b[0mPunkt\u001b[0m \u001b[0mcorpus\u001b[0m\u001b[0;34m\u001b[0m\u001b[0;34m\u001b[0m\u001b[0m\n\u001b[1;32m    105\u001b[0m     \"\"\"\n\u001b[0;32m--> 106\u001b[0;31m     \u001b[0mtokenizer\u001b[0m \u001b[0;34m=\u001b[0m \u001b[0mload\u001b[0m\u001b[0;34m(\u001b[0m\u001b[0;34m\"tokenizers/punkt/{0}.pickle\"\u001b[0m\u001b[0;34m.\u001b[0m\u001b[0mformat\u001b[0m\u001b[0;34m(\u001b[0m\u001b[0mlanguage\u001b[0m\u001b[0;34m)\u001b[0m\u001b[0;34m)\u001b[0m\u001b[0;34m\u001b[0m\u001b[0;34m\u001b[0m\u001b[0m\n\u001b[0m\u001b[1;32m    107\u001b[0m     \u001b[0;32mreturn\u001b[0m \u001b[0mtokenizer\u001b[0m\u001b[0;34m.\u001b[0m\u001b[0mtokenize\u001b[0m\u001b[0;34m(\u001b[0m\u001b[0mtext\u001b[0m\u001b[0;34m)\u001b[0m\u001b[0;34m\u001b[0m\u001b[0;34m\u001b[0m\u001b[0m\n\u001b[1;32m    108\u001b[0m \u001b[0;34m\u001b[0m\u001b[0m\n",
      "\u001b[0;32m~/.local/lib/python3.8/site-packages/nltk/data.py\u001b[0m in \u001b[0;36mload\u001b[0;34m(resource_url, format, cache, verbose, logic_parser, fstruct_reader, encoding)\u001b[0m\n\u001b[1;32m    750\u001b[0m \u001b[0;34m\u001b[0m\u001b[0m\n\u001b[1;32m    751\u001b[0m     \u001b[0;31m# Load the resource.\u001b[0m\u001b[0;34m\u001b[0m\u001b[0;34m\u001b[0m\u001b[0;34m\u001b[0m\u001b[0m\n\u001b[0;32m--> 752\u001b[0;31m     \u001b[0mopened_resource\u001b[0m \u001b[0;34m=\u001b[0m \u001b[0m_open\u001b[0m\u001b[0;34m(\u001b[0m\u001b[0mresource_url\u001b[0m\u001b[0;34m)\u001b[0m\u001b[0;34m\u001b[0m\u001b[0;34m\u001b[0m\u001b[0m\n\u001b[0m\u001b[1;32m    753\u001b[0m \u001b[0;34m\u001b[0m\u001b[0m\n\u001b[1;32m    754\u001b[0m     \u001b[0;32mif\u001b[0m \u001b[0mformat\u001b[0m \u001b[0;34m==\u001b[0m \u001b[0;34m\"raw\"\u001b[0m\u001b[0;34m:\u001b[0m\u001b[0;34m\u001b[0m\u001b[0;34m\u001b[0m\u001b[0m\n",
      "\u001b[0;32m~/.local/lib/python3.8/site-packages/nltk/data.py\u001b[0m in \u001b[0;36m_open\u001b[0;34m(resource_url)\u001b[0m\n\u001b[1;32m    875\u001b[0m \u001b[0;34m\u001b[0m\u001b[0m\n\u001b[1;32m    876\u001b[0m     \u001b[0;32mif\u001b[0m \u001b[0mprotocol\u001b[0m \u001b[0;32mis\u001b[0m \u001b[0;32mNone\u001b[0m \u001b[0;32mor\u001b[0m \u001b[0mprotocol\u001b[0m\u001b[0;34m.\u001b[0m\u001b[0mlower\u001b[0m\u001b[0;34m(\u001b[0m\u001b[0;34m)\u001b[0m \u001b[0;34m==\u001b[0m \u001b[0;34m\"nltk\"\u001b[0m\u001b[0;34m:\u001b[0m\u001b[0;34m\u001b[0m\u001b[0;34m\u001b[0m\u001b[0m\n\u001b[0;32m--> 877\u001b[0;31m         \u001b[0;32mreturn\u001b[0m \u001b[0mfind\u001b[0m\u001b[0;34m(\u001b[0m\u001b[0mpath_\u001b[0m\u001b[0;34m,\u001b[0m \u001b[0mpath\u001b[0m \u001b[0;34m+\u001b[0m \u001b[0;34m[\u001b[0m\u001b[0;34m\"\"\u001b[0m\u001b[0;34m]\u001b[0m\u001b[0;34m)\u001b[0m\u001b[0;34m.\u001b[0m\u001b[0mopen\u001b[0m\u001b[0;34m(\u001b[0m\u001b[0;34m)\u001b[0m\u001b[0;34m\u001b[0m\u001b[0;34m\u001b[0m\u001b[0m\n\u001b[0m\u001b[1;32m    878\u001b[0m     \u001b[0;32melif\u001b[0m \u001b[0mprotocol\u001b[0m\u001b[0;34m.\u001b[0m\u001b[0mlower\u001b[0m\u001b[0;34m(\u001b[0m\u001b[0;34m)\u001b[0m \u001b[0;34m==\u001b[0m \u001b[0;34m\"file\"\u001b[0m\u001b[0;34m:\u001b[0m\u001b[0;34m\u001b[0m\u001b[0;34m\u001b[0m\u001b[0m\n\u001b[1;32m    879\u001b[0m         \u001b[0;31m# urllib might not use mode='rb', so handle this one ourselves:\u001b[0m\u001b[0;34m\u001b[0m\u001b[0;34m\u001b[0m\u001b[0;34m\u001b[0m\u001b[0m\n",
      "\u001b[0;32m~/.local/lib/python3.8/site-packages/nltk/data.py\u001b[0m in \u001b[0;36mfind\u001b[0;34m(resource_name, paths)\u001b[0m\n\u001b[1;32m    583\u001b[0m     \u001b[0msep\u001b[0m \u001b[0;34m=\u001b[0m \u001b[0;34m\"*\"\u001b[0m \u001b[0;34m*\u001b[0m \u001b[0;36m70\u001b[0m\u001b[0;34m\u001b[0m\u001b[0;34m\u001b[0m\u001b[0m\n\u001b[1;32m    584\u001b[0m     \u001b[0mresource_not_found\u001b[0m \u001b[0;34m=\u001b[0m \u001b[0;34m\"\\n%s\\n%s\\n%s\\n\"\u001b[0m \u001b[0;34m%\u001b[0m \u001b[0;34m(\u001b[0m\u001b[0msep\u001b[0m\u001b[0;34m,\u001b[0m \u001b[0mmsg\u001b[0m\u001b[0;34m,\u001b[0m \u001b[0msep\u001b[0m\u001b[0;34m)\u001b[0m\u001b[0;34m\u001b[0m\u001b[0;34m\u001b[0m\u001b[0m\n\u001b[0;32m--> 585\u001b[0;31m     \u001b[0;32mraise\u001b[0m \u001b[0mLookupError\u001b[0m\u001b[0;34m(\u001b[0m\u001b[0mresource_not_found\u001b[0m\u001b[0;34m)\u001b[0m\u001b[0;34m\u001b[0m\u001b[0;34m\u001b[0m\u001b[0m\n\u001b[0m\u001b[1;32m    586\u001b[0m \u001b[0;34m\u001b[0m\u001b[0m\n\u001b[1;32m    587\u001b[0m \u001b[0;34m\u001b[0m\u001b[0m\n",
      "\u001b[0;31mLookupError\u001b[0m: \n**********************************************************************\n  Resource \u001b[93mpunkt\u001b[0m not found.\n  Please use the NLTK Downloader to obtain the resource:\n\n  \u001b[31m>>> import nltk\n  >>> nltk.download('punkt')\n  \u001b[0m\n  For more information see: https://www.nltk.org/data.html\n\n  Attempted to load \u001b[93mtokenizers/punkt/PY3/es.pickle\u001b[0m\n\n  Searched in:\n    - '/home/alberto/nltk_data'\n    - '/usr/nltk_data'\n    - '/usr/share/nltk_data'\n    - '/usr/lib/nltk_data'\n    - '/usr/share/nltk_data'\n    - '/usr/local/share/nltk_data'\n    - '/usr/lib/nltk_data'\n    - '/usr/local/lib/nltk_data'\n    - ''\n**********************************************************************\n"
     ]
    }
   ],
   "source": [
    "nltk.word_tokenize(a[0], language='es')"
   ]
  },
  {
   "cell_type": "code",
   "execution_count": null,
   "metadata": {},
   "outputs": [],
   "source": []
  }
 ],
 "metadata": {
  "kernelspec": {
   "display_name": "Python 3",
   "language": "python",
   "name": "python3"
  },
  "language_info": {
   "codemirror_mode": {
    "name": "ipython",
    "version": 3
   },
   "file_extension": ".py",
   "mimetype": "text/x-python",
   "name": "python",
   "nbconvert_exporter": "python",
   "pygments_lexer": "ipython3",
   "version": "3.8.5"
  }
 },
 "nbformat": 4,
 "nbformat_minor": 4
}
